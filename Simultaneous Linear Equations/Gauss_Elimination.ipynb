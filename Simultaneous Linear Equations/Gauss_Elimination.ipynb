{
 "cells": [
  {
   "cell_type": "code",
   "execution_count": 1,
   "metadata": {},
   "outputs": [],
   "source": [
    "import numpy as np"
   ]
  },
  {
   "cell_type": "code",
   "execution_count": 8,
   "metadata": {},
   "outputs": [],
   "source": [
    "def naive_gauss(A, C):\n",
    "    \"\"\"\n",
    "    param A: matrix A\n",
    "    param C: matrix C\n",
    "    return: matrix X\n",
    "    \"\"\"\n",
    "    n = len(A)\n",
    "\n",
    "    # -------------- forward elimination -------------- #\n",
    "    for i in range(n):\n",
    "        for j in range(i+1, n):\n",
    "            m = A[j][i] / A[i][i]\n",
    "            for k in range(i, n):\n",
    "                A[j][k] -= m * A[i][k]\n",
    "            C[j] -= m * C[i]\n",
    "\n",
    "    X = np.zeros(n)\n",
    "\n",
    "    # -------------- backward substitution -------------- #\n",
    "\n",
    "    for i in range(n-1, -1, -1):\n",
    "        for j in range(i+1, n):\n",
    "            C[i] -= A[i][j] * X[j]\n",
    "        X[i] = C[i] / A[i][i]\n",
    "\n",
    "    return X"
   ]
  },
  {
   "cell_type": "code",
   "execution_count": 41,
   "metadata": {},
   "outputs": [
    {
     "name": "stdout",
     "output_type": "stream",
     "text": [
      "Input: \n",
      "A = \n",
      " [[ 25.   5.   1.]\n",
      " [ 64.   8.   1.]\n",
      " [144.  12.   1.]]\n",
      "C = \n",
      " [106.8 177.2 279.2]\n",
      "\n",
      "Output: \n",
      "X = \n",
      " [ 0.29047619 19.69047619  1.08571429]\n"
     ]
    }
   ],
   "source": [
    "A = np.array([[25.0, 5.0, 1.0], [64.0, 8.0, 1.0], [144.0, 12.0, 1.0]])\n",
    "C = np.array([106.8, 177.2, 279.2])\n",
    "\n",
    "print(\"Input: \")\n",
    "print(\"A = \\n\", A)\n",
    "print(\"C = \\n\", C)\n",
    "print()\n",
    "\n",
    "print(\"Output: \")\n",
    "X = naive_gauss(A, C)\n",
    "print(\"X = \\n\", X)"
   ]
  },
  {
   "cell_type": "code",
   "execution_count": 39,
   "metadata": {},
   "outputs": [],
   "source": [
    "def gauss_partial_pivoting(A, C):\n",
    "    \"\"\"\n",
    "    param A: matrix A\n",
    "    param C: matrix C\n",
    "    return: matrix X\n",
    "    \"\"\"\n",
    "    n = len(A)\n",
    "\n",
    "    # -------------- forward elimination -------------- #\n",
    "    for i in range(n):\n",
    "        # partial pivoting\n",
    "        max_index = i\n",
    "        for j in range(i+1, n):\n",
    "            if abs(A[j][i]) > abs(A[max_index][i]):\n",
    "                max_index = j\n",
    "        A[i], A[max_index] = A[max_index].copy(), A[i].copy()\n",
    "        C[i], C[max_index] = C[max_index].copy(), C[i].copy()\n",
    "\n",
    "        for j in range(i+1, n):\n",
    "            m = A[j][i] / A[i][i]\n",
    "            for k in range(i, n):\n",
    "                A[j][k] -= m * A[i][k]\n",
    "            C[j] -= m * C[i]\n",
    "\n",
    "        # print(\"A = \\n\", A)\n",
    "\n",
    "    X = np.zeros(n)\n",
    "\n",
    "    # -------------- backward substitution -------------- #\n",
    "\n",
    "    for i in range(n-1, -1, -1):\n",
    "        for j in range(i+1, n):\n",
    "            C[i] -= A[i][j] * X[j]\n",
    "        X[i] = C[i] / A[i][i]\n",
    "\n",
    "    return X"
   ]
  },
  {
   "cell_type": "code",
   "execution_count": 42,
   "metadata": {},
   "outputs": [
    {
     "name": "stdout",
     "output_type": "stream",
     "text": [
      "Input: \n",
      "A = \n",
      " [[ 25.   5.   1.]\n",
      " [ 64.   8.   1.]\n",
      " [144.  12.   1.]]\n",
      "C = \n",
      " [106.8 177.2 279.2]\n",
      "\n",
      "Output: \n",
      "X = \n",
      " [ 0.29047619 19.69047619  1.08571429]\n"
     ]
    }
   ],
   "source": [
    "A = np.array([[25.0, 5.0, 1.0], [64.0, 8.0, 1.0], [144.0, 12.0, 1.0]])\n",
    "C = np.array([106.8, 177.2, 279.2])\n",
    "\n",
    "print(\"Input: \")\n",
    "print(\"A = \\n\", A)\n",
    "print(\"C = \\n\", C)\n",
    "print()\n",
    "\n",
    "print(\"Output: \")\n",
    "X = gauss_partial_pivoting(A, C)\n",
    "print(\"X = \\n\", X)"
   ]
  },
  {
   "cell_type": "code",
   "execution_count": null,
   "metadata": {},
   "outputs": [],
   "source": []
  }
 ],
 "metadata": {
  "kernelspec": {
   "display_name": "Python 3",
   "language": "python",
   "name": "python3"
  },
  "language_info": {
   "codemirror_mode": {
    "name": "ipython",
    "version": 3
   },
   "file_extension": ".py",
   "mimetype": "text/x-python",
   "name": "python",
   "nbconvert_exporter": "python",
   "pygments_lexer": "ipython3",
   "version": "3.11.6"
  },
  "orig_nbformat": 4
 },
 "nbformat": 4,
 "nbformat_minor": 2
}
