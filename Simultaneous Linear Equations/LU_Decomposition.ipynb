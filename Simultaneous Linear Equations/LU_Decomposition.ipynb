{
 "cells": [
  {
   "cell_type": "code",
   "execution_count": 1,
   "metadata": {},
   "outputs": [],
   "source": [
    "import numpy as np"
   ]
  },
  {
   "cell_type": "code",
   "execution_count": 12,
   "metadata": {},
   "outputs": [],
   "source": [
    "def LU_Decomposition(A, C):\n",
    "    n = len(A)\n",
    "    L = np.zeros((n, n))\n",
    "    U = np.copy(A)\n",
    "\n",
    "    for i in range(n):\n",
    "        L[i][i] = 1\n",
    "\n",
    "    # --------- LU Decomposition --------- #\n",
    "    for i in range(n):\n",
    "        for j in range(i+1, n):\n",
    "            m = U[j][i] / U[i][i]\n",
    "            L[j][i] = m\n",
    "            for k in range(i, n):\n",
    "                U[j][k] -= m * U[i][k]\n",
    "\n",
    "    print(\"L = \\n\", L)\n",
    "    print(\"U = \\n\", U)\n",
    "    \n",
    "    # --------- Forward Substitution --------- #\n",
    "    Z = np.zeros((n, 1))\n",
    "    for i in range(n):\n",
    "        sum = 0\n",
    "        for j in range(i):\n",
    "            sum += L[i][j] * Z[j]\n",
    "        Z[i] = C[i] - sum\n",
    "\n",
    "    print(\"Z = \\n\", Z)\n",
    "    \n",
    "    # --------- Backward Substitution --------- #\n",
    "    X = np.zeros((n, 1))\n",
    "    for i in range(n - 1, -1, -1):\n",
    "        sum = 0\n",
    "        for j in range(i + 1, n):\n",
    "            sum += U[i][j] * X[j]\n",
    "        X[i] = (Z[i] - sum) / U[i][i]\n",
    "    \n",
    "    return X"
   ]
  },
  {
   "cell_type": "code",
   "execution_count": 13,
   "metadata": {},
   "outputs": [
    {
     "name": "stdout",
     "output_type": "stream",
     "text": [
      "Input: \n",
      "A = \n",
      " [[ 25.   5.   1.]\n",
      " [ 64.   8.   1.]\n",
      " [144.  12.   1.]]\n",
      "C = \n",
      " [106.8 177.2 279.2]\n",
      "\n",
      "Output: \n",
      "L = \n",
      " [[1.   0.   0.  ]\n",
      " [2.56 1.   0.  ]\n",
      " [5.76 3.5  1.  ]]\n",
      "U = \n",
      " [[25.    5.    1.  ]\n",
      " [ 0.   -4.8  -1.56]\n",
      " [ 0.    0.    0.7 ]]\n",
      "Z = \n",
      " [[106.8  ]\n",
      " [-96.208]\n",
      " [  0.76 ]]\n",
      "X = \n",
      " [[ 0.29047619]\n",
      " [19.69047619]\n",
      " [ 1.08571429]]\n"
     ]
    }
   ],
   "source": [
    "A = np.array([[25.0, 5.0, 1.0], [64.0, 8.0, 1.0], [144.0, 12.0, 1.0]])\n",
    "C = np.array([106.8, 177.2, 279.2])\n",
    "\n",
    "print(\"Input: \")\n",
    "print(\"A = \\n\", A)\n",
    "print(\"C = \\n\", C)\n",
    "print()\n",
    "\n",
    "print(\"Output: \")\n",
    "X = LU_Decomposition(A, C)\n",
    "print(\"X = \\n\", X)"
   ]
  },
  {
   "cell_type": "code",
   "execution_count": null,
   "metadata": {},
   "outputs": [],
   "source": []
  }
 ],
 "metadata": {
  "kernelspec": {
   "display_name": "Python 3",
   "language": "python",
   "name": "python3"
  },
  "language_info": {
   "codemirror_mode": {
    "name": "ipython",
    "version": 3
   },
   "file_extension": ".py",
   "mimetype": "text/x-python",
   "name": "python",
   "nbconvert_exporter": "python",
   "pygments_lexer": "ipython3",
   "version": "3.11.5"
  },
  "orig_nbformat": 4
 },
 "nbformat": 4,
 "nbformat_minor": 2
}
