{
 "cells": [
  {
   "cell_type": "code",
   "execution_count": 1,
   "metadata": {},
   "outputs": [],
   "source": [
    "import numpy as np"
   ]
  },
  {
   "cell_type": "code",
   "execution_count": 7,
   "metadata": {},
   "outputs": [],
   "source": [
    "def trapezoidal(f, a, b, n):\n",
    "    h = (b - a)/n\n",
    "    series_sum = 0\n",
    "    for i in range(1, n):\n",
    "        series_sum += f(a + i*h)\n",
    "\n",
    "    return h/2 * ( f(a) + f(b) + 2 * series_sum)"
   ]
  },
  {
   "cell_type": "code",
   "execution_count": 8,
   "metadata": {},
   "outputs": [],
   "source": [
    "def func(x):\n",
    "    return 300 * x / (1 + np.exp(x))"
   ]
  },
  {
   "cell_type": "code",
   "execution_count": 11,
   "metadata": {},
   "outputs": [
    {
     "name": "stdout",
     "output_type": "stream",
     "text": [
      "n = 1, result = 0.680968\n",
      "n = 2, result = 50.536866\n",
      "n = 4, result = 170.611900\n",
      "n = 8, result = 227.044220\n",
      "n = 16, result = 241.703511\n",
      "n = 32, result = 245.368594\n",
      "n = 64, result = 246.284868\n",
      "n = 128, result = 246.513937\n",
      "n = 256, result = 246.571204\n",
      "n = 512, result = 246.585521\n"
     ]
    }
   ],
   "source": [
    "for i in range(10):\n",
    "    n = 2**i\n",
    "    print(\"n = %d, result = %f\" % (n, trapezoidal(func, 0, 10, n)))"
   ]
  },
  {
   "cell_type": "code",
   "execution_count": null,
   "metadata": {},
   "outputs": [],
   "source": []
  }
 ],
 "metadata": {
  "kernelspec": {
   "display_name": "Python 3",
   "language": "python",
   "name": "python3"
  },
  "language_info": {
   "codemirror_mode": {
    "name": "ipython",
    "version": 3
   },
   "file_extension": ".py",
   "mimetype": "text/x-python",
   "name": "python",
   "nbconvert_exporter": "python",
   "pygments_lexer": "ipython3",
   "version": "3.11.6"
  },
  "orig_nbformat": 4
 },
 "nbformat": 4,
 "nbformat_minor": 2
}
