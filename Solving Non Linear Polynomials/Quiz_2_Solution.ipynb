{
  "nbformat": 4,
  "nbformat_minor": 0,
  "metadata": {
    "colab": {
      "provenance": []
    },
    "kernelspec": {
      "name": "python3",
      "display_name": "Python 3"
    },
    "language_info": {
      "name": "python"
    }
  },
  "cells": [
    {
      "cell_type": "code",
      "execution_count": null,
      "metadata": {
        "id": "mHw47Z_KFd0G"
      },
      "outputs": [],
      "source": [
        "import numpy as np\n",
        "import matplotlib.pyplot as plt"
      ]
    },
    {
      "cell_type": "code",
      "source": [
        "def f(x):\n",
        "  return x * np.log(x)"
      ],
      "metadata": {
        "id": "5LsePyhKFnQa"
      },
      "execution_count": null,
      "outputs": []
    },
    {
      "cell_type": "code",
      "source": [
        "true = 1 + np.log(3)"
      ],
      "metadata": {
        "id": "fyE9KkMnFxhp"
      },
      "execution_count": null,
      "outputs": []
    },
    {
      "cell_type": "code",
      "source": [
        "def fdd(f, x, h):\n",
        "  return (f(x+h) - f(x))/h"
      ],
      "metadata": {
        "id": "fCZUFjy5FzQp"
      },
      "execution_count": null,
      "outputs": []
    },
    {
      "cell_type": "code",
      "source": [
        "h_ranges = [1, 0.1, 0.01]\n",
        "\n",
        "for h in h_ranges:\n",
        "  approx = fdd(f, 3, h)\n",
        "  true_error = true - approx\n",
        "  print(\"h: \", h, \", True Error: \", true_error)"
      ],
      "metadata": {
        "colab": {
          "base_uri": "https://localhost:8080/"
        },
        "id": "74a2C8JwF5Uo",
        "outputId": "2dd36a88-b311-4480-e8bf-20ea5f3c6a36"
      },
      "execution_count": 15,
      "outputs": [
        {
          "output_type": "stream",
          "name": "stdout",
          "text": [
            "h:  1 , True Error:  -0.15072828980712316\n",
            "h:  0.1 , True Error:  -0.016484507512716462\n",
            "h:  0.01 , True Error:  -0.001664817894998727\n"
          ]
        }
      ]
    },
    {
      "cell_type": "code",
      "source": [],
      "metadata": {
        "id": "oq84XwFmGJj5"
      },
      "execution_count": null,
      "outputs": []
    }
  ]
}