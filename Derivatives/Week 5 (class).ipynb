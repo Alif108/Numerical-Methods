{
  "nbformat": 4,
  "nbformat_minor": 0,
  "metadata": {
    "colab": {
      "provenance": []
    },
    "kernelspec": {
      "name": "python3",
      "display_name": "Python 3"
    },
    "language_info": {
      "name": "python"
    }
  },
  "cells": [
    {
      "cell_type": "code",
      "execution_count": null,
      "metadata": {
        "id": "faIsMe0aHGZo"
      },
      "outputs": [],
      "source": [
        "import numpy as np\n",
        "import matplotlib.pyplot as plt"
      ]
    },
    {
      "cell_type": "code",
      "source": [
        "allMarks = np.random.randint(50, 100, size=(6, 4))\n",
        "allMarks"
      ],
      "metadata": {
        "colab": {
          "base_uri": "https://localhost:8080/"
        },
        "id": "0EG-U2BGHNmI",
        "outputId": "e7c4e016-c20a-404a-ac6c-ce7e40aa98e4"
      },
      "execution_count": null,
      "outputs": [
        {
          "output_type": "execute_result",
          "data": {
            "text/plain": [
              "array([[65, 96, 96, 77],\n",
              "       [78, 81, 62, 96],\n",
              "       [55, 57, 70, 69],\n",
              "       [58, 69, 66, 87],\n",
              "       [59, 94, 80, 82],\n",
              "       [50, 84, 99, 75]])"
            ]
          },
          "metadata": {},
          "execution_count": 4
        }
      ]
    },
    {
      "cell_type": "code",
      "source": [
        "scaled_marks = allMarks/5\n",
        "scaled_marks"
      ],
      "metadata": {
        "colab": {
          "base_uri": "https://localhost:8080/"
        },
        "id": "31Z1Mco8HurA",
        "outputId": "cd1b8f96-0dd6-4b4e-9aa3-eb6b21c0edc4"
      },
      "execution_count": null,
      "outputs": [
        {
          "output_type": "execute_result",
          "data": {
            "text/plain": [
              "array([[13. , 19.2, 19.2, 15.4],\n",
              "       [15.6, 16.2, 12.4, 19.2],\n",
              "       [11. , 11.4, 14. , 13.8],\n",
              "       [11.6, 13.8, 13.2, 17.4],\n",
              "       [11.8, 18.8, 16. , 16.4],\n",
              "       [10. , 16.8, 19.8, 15. ]])"
            ]
          },
          "metadata": {},
          "execution_count": 5
        }
      ]
    },
    {
      "cell_type": "code",
      "source": [
        "np.sum(allMarks[2])"
      ],
      "metadata": {
        "colab": {
          "base_uri": "https://localhost:8080/"
        },
        "id": "f59iZtciIo2g",
        "outputId": "99eb2c4d-5f0f-49fa-dc50-4a8248dfa585"
      },
      "execution_count": null,
      "outputs": [
        {
          "output_type": "execute_result",
          "data": {
            "text/plain": [
              "251"
            ]
          },
          "metadata": {},
          "execution_count": 7
        }
      ]
    },
    {
      "cell_type": "code",
      "source": [
        "allMarks[:, 2]"
      ],
      "metadata": {
        "colab": {
          "base_uri": "https://localhost:8080/"
        },
        "id": "5Jr-od3vJP9A",
        "outputId": "580a1c9e-d493-486c-ab8b-6d59b1b7dfe7"
      },
      "execution_count": null,
      "outputs": [
        {
          "output_type": "execute_result",
          "data": {
            "text/plain": [
              "array([96, 62, 70, 66, 80, 99])"
            ]
          },
          "metadata": {},
          "execution_count": 8
        }
      ]
    },
    {
      "cell_type": "code",
      "source": [
        "np.average(allMarks[:, 2])"
      ],
      "metadata": {
        "colab": {
          "base_uri": "https://localhost:8080/"
        },
        "id": "wjWOocTwJ8wQ",
        "outputId": "18fa6995-8254-40f4-8dca-3a80edb2fdb6"
      },
      "execution_count": null,
      "outputs": [
        {
          "output_type": "execute_result",
          "data": {
            "text/plain": [
              "78.83333333333333"
            ]
          },
          "metadata": {},
          "execution_count": 9
        }
      ]
    },
    {
      "cell_type": "code",
      "source": [
        "np.average(allMarks[:, 3])"
      ],
      "metadata": {
        "colab": {
          "base_uri": "https://localhost:8080/"
        },
        "id": "Vmv0g3r5KFfR",
        "outputId": "1840d770-a2c9-4889-ab1b-ab9a3d9124ae"
      },
      "execution_count": null,
      "outputs": [
        {
          "output_type": "execute_result",
          "data": {
            "text/plain": [
              "81.0"
            ]
          },
          "metadata": {},
          "execution_count": 10
        }
      ]
    },
    {
      "cell_type": "markdown",
      "source": [
        "# FDD"
      ],
      "metadata": {
        "id": "Pmz3Gg0pKWOS"
      }
    },
    {
      "cell_type": "code",
      "source": [
        "def fdd(f, x, h):\n",
        "  return (f(x+h)-f(x))/h"
      ],
      "metadata": {
        "id": "RJiQTmCYKOHx"
      },
      "execution_count": null,
      "outputs": []
    },
    {
      "cell_type": "code",
      "source": [
        "def func(x):\n",
        "  return 7 * np.exp(0.5 * x)"
      ],
      "metadata": {
        "id": "Byy5KWBtK11h"
      },
      "execution_count": null,
      "outputs": []
    },
    {
      "cell_type": "code",
      "source": [
        "fdd(func, 2, 0.3)"
      ],
      "metadata": {
        "colab": {
          "base_uri": "https://localhost:8080/"
        },
        "id": "2fofph7HLFCh",
        "outputId": "d9b97858-25b8-4446-c08c-3e3d559d5feb"
      },
      "execution_count": null,
      "outputs": [
        {
          "output_type": "execute_result",
          "data": {
            "text/plain": [
              "10.264591895383516"
            ]
          },
          "metadata": {},
          "execution_count": 15
        }
      ]
    },
    {
      "cell_type": "code",
      "source": [
        "true_value = 3.5 * np.exp(0.5 * 2)\n",
        "true_value"
      ],
      "metadata": {
        "colab": {
          "base_uri": "https://localhost:8080/"
        },
        "id": "8U1dvCNILL7R",
        "outputId": "f432f948-18a3-4434-c633-95fd34e22a0c"
      },
      "execution_count": null,
      "outputs": [
        {
          "output_type": "execute_result",
          "data": {
            "text/plain": [
              "9.513986399606658"
            ]
          },
          "metadata": {},
          "execution_count": 7
        }
      ]
    },
    {
      "cell_type": "code",
      "source": [
        "h_range = [0.3, 0.15, 0.1, 0.01, 0.001]\n",
        "\n",
        "for h in h_range:\n",
        "  derivative = fdd(func, 2, h)\n",
        "  print(\"step size: \", h)\n",
        "  print(\"fdd: \", derivative)\n",
        "  print(\"Relative true error : \", abs((true_value - derivative)) * 100 / true_value, \"%\")\n",
        "  print()"
      ],
      "metadata": {
        "colab": {
          "base_uri": "https://localhost:8080/"
        },
        "id": "t333t4kYLhlp",
        "outputId": "152de49e-64e8-4e96-8d91-f4cf600df73d"
      },
      "execution_count": null,
      "outputs": [
        {
          "output_type": "stream",
          "name": "stdout",
          "text": [
            "step size:  0.3\n",
            "fdd:  10.264591895383516\n",
            "Relative true error :  7.889495152188685 %\n",
            "\n",
            "step size:  0.15\n",
            "fdd:  9.879850030150621\n",
            "Relative true error :  3.8455345128419456 %\n",
            "\n",
            "step size:  0.1\n",
            "fdd:  9.755850272288313\n",
            "Relative true error :  2.5421927520482352 %\n",
            "\n",
            "step size:  0.01\n",
            "fdd:  9.537811056816992\n",
            "Relative true error :  0.2504171880182481 %\n",
            "\n",
            "step size:  0.001\n",
            "fdd:  9.516365292672191\n",
            "Relative true error :  0.025004167187281264 %\n",
            "\n"
          ]
        }
      ]
    },
    {
      "cell_type": "markdown",
      "source": [
        "# BDD"
      ],
      "metadata": {
        "id": "dyQvZ-zzNAxb"
      }
    },
    {
      "cell_type": "code",
      "source": [
        "def bdd(f, x, h):\n",
        "  return (f(x)-f(x-h))/h"
      ],
      "metadata": {
        "id": "6hHMjgGdMIfB"
      },
      "execution_count": null,
      "outputs": []
    },
    {
      "cell_type": "code",
      "source": [
        "h_range = [0.3, 0.15, 0.1, 0.01, 0.001]\n",
        "\n",
        "for h in h_range:\n",
        "  derivative = bdd(func, 2, h)\n",
        "  print(\"step size: \", h)\n",
        "  print(\"bdd: \", derivative)\n",
        "  print(\"Relative true error : \", abs((true_value - derivative)) * 100 / true_value, \"%\")\n",
        "  print()"
      ],
      "metadata": {
        "colab": {
          "base_uri": "https://localhost:8080/"
        },
        "id": "yaUDIGT4NFqS",
        "outputId": "93d2dc8c-7933-46cb-a7cc-979cb99bcde7"
      },
      "execution_count": null,
      "outputs": [
        {
          "output_type": "stream",
          "name": "stdout",
          "text": [
            "step size:  0.3\n",
            "bdd:  8.834816119104605\n",
            "Relative true error :  7.138650950038483 %\n",
            "\n",
            "step size:  0.15\n",
            "bdd:  9.1659665113752\n",
            "Relative true error :  3.6579817714039122 %\n",
            "\n",
            "step size:  0.1\n",
            "bdd:  9.280051840023944\n",
            "Relative true error :  2.458849001427895 %\n",
            "\n",
            "step size:  0.01\n",
            "bdd:  9.490241025714852\n",
            "Relative true error :  0.24958385364927604 %\n",
            "\n",
            "step size:  0.001\n",
            "bdd:  9.511608299369811\n",
            "Relative true error :  0.02499583389087997 %\n",
            "\n"
          ]
        }
      ]
    },
    {
      "cell_type": "markdown",
      "source": [
        "# CDD"
      ],
      "metadata": {
        "id": "ntoNwkckOGEj"
      }
    },
    {
      "cell_type": "code",
      "source": [
        "def cdd(f, x, h):\n",
        "  return ( f(x + h) - f(x - h) ) / (2 * h)"
      ],
      "metadata": {
        "id": "0lmi_STaNKPy"
      },
      "execution_count": null,
      "outputs": []
    },
    {
      "cell_type": "code",
      "source": [
        "h_range = [0.3, 0.15, 0.1, 0.01, 0.001]\n",
        "errors = []\n",
        "\n",
        "for h in h_range:\n",
        "  derivative = cdd(func, 2, h)\n",
        "  arte = abs((true_value - derivative)) * 100 / true_value\n",
        "  errors.append(arte)\n",
        "  print(\"step size: \", h)\n",
        "  print(\"cdd: \", derivative)\n",
        "  print(\"Absolute relative true error : \", arte, \"%\")\n",
        "  print()\n",
        "\n",
        "plt.plot(h_range, errors, marker='x')\n",
        "plt.show()"
      ],
      "metadata": {
        "colab": {
          "base_uri": "https://localhost:8080/",
          "height": 777
        },
        "id": "WgKvxI_DOOqB",
        "outputId": "39c79d1a-7044-49e4-b582-392ff3550451"
      },
      "execution_count": null,
      "outputs": [
        {
          "output_type": "stream",
          "name": "stdout",
          "text": [
            "step size:  0.3\n",
            "cdd:  9.54970400724406\n",
            "Relative true error :  0.3754221010750911 %\n",
            "\n",
            "step size:  0.15\n",
            "cdd:  9.52290827076291\n",
            "Relative true error :  0.09377637071901683 %\n",
            "\n",
            "step size:  0.1\n",
            "cdd:  9.517951056156129\n",
            "Relative true error :  0.04167187531017029 %\n",
            "\n",
            "step size:  0.01\n",
            "cdd:  9.514026041265922\n",
            "Relative true error :  0.0004166671844860086 %\n",
            "\n",
            "step size:  0.001\n",
            "cdd:  9.513986796021001\n",
            "Relative true error :  4.166648200646686e-06 %\n",
            "\n"
          ]
        },
        {
          "output_type": "display_data",
          "data": {
            "text/plain": [
              "<Figure size 640x480 with 1 Axes>"
            ],
            "image/png": "[encoded data removed]"
          },
          "metadata": {}
        }
      ]
    },
    {
      "cell_type": "markdown",
      "source": [
        "# New function"
      ],
      "metadata": {
        "id": "LN9LqGSAVgp-"
      }
    },
    {
      "cell_type": "code",
      "source": [
        "def f(x):\n",
        "  return x**3 - 3 * x**2 + 5 * x - 6\n",
        "\n",
        "def f_prime(x):\n",
        "  return 3 * x**2 - 6 * x + 5\n",
        "\n",
        "def fdd(f, x, h):\n",
        "  return (f(x+h) - f(x))/h"
      ],
      "metadata": {
        "id": "gMENFIc8ORnC"
      },
      "execution_count": null,
      "outputs": []
    },
    {
      "cell_type": "code",
      "source": [
        "x = np.linspace(-1, 1, 1000)\n",
        "true_derivative = f_prime(x)\n",
        "approx_derivative = fdd(f, x, h=0.3)\n",
        "\n",
        "plt.plot(x, true_derivative, label=\"true\")\n",
        "plt.plot(x, approx_derivative, label=\"approx\")\n",
        "plt.legend()\n",
        "plt.show()"
      ],
      "metadata": {
        "colab": {
          "base_uri": "https://localhost:8080/",
          "height": 430
        },
        "id": "NIacS4SsV38t",
        "outputId": "374d6582-0098-45e9-ce45-31c8209ae59b"
      },
      "execution_count": null,
      "outputs": [
        {
          "output_type": "display_data",
          "data": {
            "text/plain": [
              "<Figure size 640x480 with 1 Axes>"
            ],
            "image/png": "[encoded data removed]"
          },
          "metadata": {}
        }
      ]
    },
    {
      "cell_type": "code",
      "source": [],
      "metadata": {
        "id": "LU7kWv4YWRAF"
      },
      "execution_count": null,
      "outputs": []
    }
  ]
}