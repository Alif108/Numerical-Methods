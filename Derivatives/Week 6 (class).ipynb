{
  "nbformat": 4,
  "nbformat_minor": 0,
  "metadata": {
    "colab": {
      "provenance": []
    },
    "kernelspec": {
      "name": "python3",
      "display_name": "Python 3"
    },
    "language_info": {
      "name": "python"
    }
  },
  "cells": [
    {
      "cell_type": "markdown",
      "source": [
        "# Function"
      ],
      "metadata": {
        "id": "XXBIuA-WTOF3"
      }
    },
    {
      "cell_type": "code",
      "source": [
        "import numpy as np\n",
        "import matplotlib.pyplot as plt"
      ],
      "metadata": {
        "id": "OuTgw2SJTPsv"
      },
      "execution_count": null,
      "outputs": []
    },
    {
      "cell_type": "code",
      "source": [
        "def f(x):\n",
        "  return 7 * np.exp(0.5 * x)\n",
        "\n",
        "def f_prime(x):\n",
        "  return 3.5 * np.exp(0.5 * x)\n",
        "\n",
        "print(\"Function value at x=2 : \", f(2))\n",
        "print(\"Derivative value at x=2 : \", f_prime(2))"
      ],
      "metadata": {
        "colab": {
          "base_uri": "https://localhost:8080/"
        },
        "id": "7c0E87TTTViB",
        "outputId": "5d0020e1-4233-4045-9eae-9991ac10d5c5"
      },
      "execution_count": null,
      "outputs": [
        {
          "output_type": "stream",
          "name": "stdout",
          "text": [
            "Function value at x=2 :  19.027972799213316\n",
            "Derivative value at x=2 :  9.513986399606658\n"
          ]
        }
      ]
    },
    {
      "cell_type": "code",
      "source": [
        "true_value = f_prime(2)\n",
        "true_value"
      ],
      "metadata": {
        "colab": {
          "base_uri": "https://localhost:8080/"
        },
        "id": "P7ADh6RsT2rB",
        "outputId": "c51ee2a4-9460-4f55-b59c-e0ab42048343"
      },
      "execution_count": null,
      "outputs": [
        {
          "output_type": "execute_result",
          "data": {
            "text/plain": [
              "9.513986399606658"
            ]
          },
          "metadata": {},
          "execution_count": 4
        }
      ]
    },
    {
      "cell_type": "markdown",
      "source": [
        "# Absolute Relative True Error"
      ],
      "metadata": {
        "id": "C1vGoCfSU4o3"
      }
    },
    {
      "cell_type": "code",
      "source": [
        "def arte(true, approx):\n",
        "  return abs(true-approx) * 100 / true"
      ],
      "metadata": {
        "id": "o2GtIf7lU_rn"
      },
      "execution_count": null,
      "outputs": []
    },
    {
      "cell_type": "markdown",
      "source": [
        "# FDD"
      ],
      "metadata": {
        "id": "5hG1hjfJUFev"
      }
    },
    {
      "cell_type": "code",
      "source": [
        "def fdd(f, x, h):\n",
        "  return ( f(x+h) - f(x) ) / h"
      ],
      "metadata": {
        "id": "03AZImoYUAmv"
      },
      "execution_count": null,
      "outputs": []
    },
    {
      "cell_type": "code",
      "source": [
        "approx = fdd(f, 2, 0.1)\n",
        "print(\"absolute relative true error: \", arte(true_value, approx), \"%\")"
      ],
      "metadata": {
        "colab": {
          "base_uri": "https://localhost:8080/"
        },
        "id": "EViPCFZlU28A",
        "outputId": "ec361e44-81dc-4873-e8cb-77fa530b49d1"
      },
      "execution_count": null,
      "outputs": [
        {
          "output_type": "stream",
          "name": "stdout",
          "text": [
            "absolute relative true error:  2.5421927520482352 %\n"
          ]
        }
      ]
    },
    {
      "cell_type": "code",
      "source": [
        "h_range = [0.1, 0.01, 0.001, 0.0001, 0.00001]\n",
        "\n",
        "for h in h_range:\n",
        "  approx = fdd(f, 2, h)\n",
        "  print(\"h=\", h, \"absolute relative true error: \", arte(true_value, approx), \"%\")\n"
      ],
      "metadata": {
        "colab": {
          "base_uri": "https://localhost:8080/"
        },
        "id": "Hw14lWwiVzB_",
        "outputId": "e2bf1159-f1ba-48fd-f1b0-0a6daf7c9d35"
      },
      "execution_count": null,
      "outputs": [
        {
          "output_type": "stream",
          "name": "stdout",
          "text": [
            "h= 0.1 absolute relative true error:  2.5421927520482352 %\n",
            "h= 0.01 absolute relative true error:  0.2504171880182481 %\n",
            "h= 0.001 absolute relative true error:  0.025004167187281264 %\n",
            "h= 0.0001 absolute relative true error:  0.0025000417375980128 %\n",
            "h= 1e-05 absolute relative true error:  0.0002500027060769392 %\n"
          ]
        }
      ]
    },
    {
      "cell_type": "code",
      "source": [
        "def bdd(f, x, h):\n",
        "  return (f(x) - f(x-h))/h\n",
        "\n",
        "def cdd(f, x, h):\n",
        "  return (f(x+h)-f(x-h))/(2*h)"
      ],
      "metadata": {
        "id": "ByPz0GFoYjRG"
      },
      "execution_count": null,
      "outputs": []
    },
    {
      "cell_type": "code",
      "source": [
        "x = np.linspace(-1, 1, 1000)\n",
        "\n",
        "true = f_prime(x)\n",
        "approx_fdd = fdd(f, x, 0.001)\n",
        "approx_bdd = bdd(f, x, 0.001)\n",
        "approx_cdd = cdd(f, x, 0.001)\n",
        "\n",
        "plt.plot(x, true, label=\"True\")\n",
        "plt.plot(x, approx_fdd, label=\"FDD\")\n",
        "plt.plot(x, approx_bdd, label=\"BDD\")\n",
        "plt.plot(x, approx_cdd, label=\"CDD\")\n",
        "\n",
        "plt.legend()\n",
        "plt.show()"
      ],
      "metadata": {
        "colab": {
          "base_uri": "https://localhost:8080/",
          "height": 430
        },
        "id": "_MjIoVaGZhHu",
        "outputId": "e6f1c16d-36ee-4630-8346-dd97259eb99b"
      },
      "execution_count": null,
      "outputs": [
        {
          "output_type": "display_data",
          "data": {
            "text/plain": [
              "<Figure size 640x480 with 1 Axes>"
            ],
            "image/png": "[encoded data removed]"
          },
          "metadata": {}
        }
      ]
    },
    {
      "cell_type": "code",
      "source": [],
      "metadata": {
        "id": "6aygMzOzbn--"
      },
      "execution_count": null,
      "outputs": []
    }
  ]
}